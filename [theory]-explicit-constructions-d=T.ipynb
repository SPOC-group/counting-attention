{
 "cells": [
  {
   "cell_type": "code",
   "execution_count": 1,
   "metadata": {},
   "outputs": [],
   "source": [
    "from data_import import *\n",
    "import numpy as np\n",
    "import matplotlib.pyplot as plt\n",
    "from sklearn.decomposition import PCA\n",
    "from plotting import *\n",
    "from manual_models import *"
   ]
  },
  {
   "cell_type": "markdown",
   "metadata": {},
   "source": [
    "# Demonstration of manual weight settings for $d = T$"
   ]
  },
  {
   "cell_type": "code",
   "execution_count": 2,
   "metadata": {},
   "outputs": [],
   "source": [
    "T = 32\n",
    "L = 10\n",
    "assert T>L\n",
    "figure_dir = FIGURE_DIR / 'paper_plots'\n",
    "figure_dir.mkdir(exist_ok=True,parents=True)"
   ]
  },
  {
   "cell_type": "markdown",
   "metadata": {},
   "source": [
    "# Linear (noSFTM)"
   ]
  },
  {
   "cell_type": "code",
   "execution_count": 3,
   "metadata": {},
   "outputs": [
    {
     "name": "stderr",
     "output_type": "stream",
     "text": [
      "/home/fbehrens/University/counting-attention-arxiv/manual_models.py:315: UserWarning: To copy construct from a tensor, it is recommended to use sourceTensor.clone().detach() or sourceTensor.clone().detach().requires_grad_(True), rather than torch.tensor(sourceTensor).\n",
      "  model.fc1.weight.data = torch.tensor(W_1).float().to(device)\n"
     ]
    },
    {
     "name": "stdout",
     "output_type": "stream",
     "text": [
      "Test passed, model works!\n"
     ]
    }
   ],
   "source": [
    "\n",
    "config = {\n",
    "    'T': T,\n",
    "    'model_dim': T,\n",
    "    'p': T,\n",
    "    'seq_len':L,\n",
    "    'attention_input': 'linear',\n",
    "    'no_softmax': True,\n",
    "    'dataset_type': 'backward'\n",
    "}\n",
    "model, ws, bs, precise_values, desicion_bounds = generate_perfect_weights(config)\n",
    "test(model, T , L, has_BOS = 'BOS' in config['dataset_type'],verbose=True)"
   ]
  },
  {
   "cell_type": "markdown",
   "metadata": {},
   "source": [
    "# Linear +SFTM"
   ]
  },
  {
   "cell_type": "code",
   "execution_count": 4,
   "metadata": {},
   "outputs": [
    {
     "name": "stdout",
     "output_type": "stream",
     "text": [
      "Test passed, model works!\n"
     ]
    },
    {
     "name": "stderr",
     "output_type": "stream",
     "text": [
      "/home/fbehrens/University/counting-attention-arxiv/manual_models.py:276: UserWarning: To copy construct from a tensor, it is recommended to use sourceTensor.clone().detach() or sourceTensor.clone().detach().requires_grad_(True), rather than torch.tensor(sourceTensor).\n",
      "  model.fc1.weight.data = torch.tensor(W_1).float().to(device)\n"
     ]
    }
   ],
   "source": [
    "\n",
    "config = {\n",
    "    'T': T,\n",
    "    'model_dim': T,\n",
    "    'p': T,\n",
    "    'seq_len':L,\n",
    "    'attention_input': 'linear',\n",
    "    'no_softmax': False,\n",
    "    'dataset_type': 'backward'\n",
    "}\n",
    "model, ws, bs, precise_values, desicion_bounds = generate_perfect_weights(config)\n",
    "test(model, T , L, has_BOS = 'BOS' in config['dataset_type'],verbose=True)"
   ]
  },
  {
   "cell_type": "markdown",
   "metadata": {},
   "source": [
    "# Linear + SFTM"
   ]
  },
  {
   "cell_type": "code",
   "execution_count": 5,
   "metadata": {},
   "outputs": [
    {
     "name": "stdout",
     "output_type": "stream",
     "text": [
      "Test passed, model works!\n"
     ]
    }
   ],
   "source": [
    "\n",
    "config = {\n",
    "    'T': T,\n",
    "    'model_dim': T,\n",
    "    'p': T,\n",
    "    'seq_len':L,\n",
    "    'attention_input': 'linear',\n",
    "    'no_softmax': True,\n",
    "    'dataset_type': 'backward'\n",
    "}\n",
    "model, ws, bs, precise_values, desicion_bounds = generate_perfect_weights(config)\n",
    "test(model, T , L, has_BOS = 'BOS' in config['dataset_type'])"
   ]
  },
  {
   "cell_type": "markdown",
   "metadata": {},
   "source": [
    "# DOT (noSFTM)"
   ]
  },
  {
   "cell_type": "code",
   "execution_count": 6,
   "metadata": {},
   "outputs": [
    {
     "name": "stdout",
     "output_type": "stream",
     "text": [
      "Test passed, model works!\n"
     ]
    }
   ],
   "source": [
    "\n",
    "config = {\n",
    "    'T': T,\n",
    "    'model_dim': T,\n",
    "    'p': 1,\n",
    "    'seq_len':L,\n",
    "    'attention_input': 'only_sem',\n",
    "    'no_softmax': True,\n",
    "    'dataset_type': 'backward'\n",
    "}\n",
    "model, ws, bs, precise_values, desicion_bounds = generate_perfect_weights(config)\n",
    "test(model, T , L, has_BOS = 'BOS' in config['dataset_type'],verbose=True)"
   ]
  },
  {
   "cell_type": "markdown",
   "metadata": {},
   "source": [
    "# DOT + SFTM"
   ]
  },
  {
   "cell_type": "code",
   "execution_count": 7,
   "metadata": {},
   "outputs": [
    {
     "name": "stdout",
     "output_type": "stream",
     "text": [
      "Test passed, model works!\n"
     ]
    },
    {
     "name": "stderr",
     "output_type": "stream",
     "text": [
      "/home/fbehrens/University/counting-attention-arxiv/manual_models.py:363: UserWarning: To copy construct from a tensor, it is recommended to use sourceTensor.clone().detach() or sourceTensor.clone().detach().requires_grad_(True), rather than torch.tensor(sourceTensor).\n",
      "  model.fc1.weight.data = torch.tensor(W_1).float().to(device)\n"
     ]
    }
   ],
   "source": [
    "\n",
    "config = {\n",
    "    'T': T,\n",
    "    'model_dim': T,\n",
    "    'p': T,\n",
    "    'seq_len':L,\n",
    "    'attention_input': 'only_sem',\n",
    "    'no_softmax': False,\n",
    "    'dataset_type': 'backward'\n",
    "}\n",
    "model, ws, bs, precise_values, desicion_bounds = generate_perfect_weights(config)\n",
    "test(model, T , L, has_BOS = 'BOS' in config['dataset_type'])"
   ]
  },
  {
   "cell_type": "markdown",
   "metadata": {},
   "source": [
    "# BOS (nSFTM)"
   ]
  },
  {
   "cell_type": "code",
   "execution_count": 8,
   "metadata": {},
   "outputs": [
    {
     "name": "stdout",
     "output_type": "stream",
     "text": [
      "Test passed, model works!\n"
     ]
    }
   ],
   "source": [
    "config = {\n",
    "    'T': T,\n",
    "    'model_dim': T,\n",
    "    'p': 1,\n",
    "    'seq_len':L,\n",
    "    'attention_input': 'only_sem',\n",
    "    'no_softmax': True,\n",
    "    'dataset_type': 'backward_BOS'\n",
    "}\n",
    "model, ws, bs, precise_values, desicion_bounds = generate_perfect_weights(config)\n",
    "test(model, T , L, has_BOS = 'BOS' in config['dataset_type'],verbose=True)"
   ]
  },
  {
   "cell_type": "markdown",
   "metadata": {},
   "source": [
    "# BOS+SFTM"
   ]
  },
  {
   "cell_type": "code",
   "execution_count": 9,
   "metadata": {},
   "outputs": [
    {
     "name": "stdout",
     "output_type": "stream",
     "text": [
      "1 0.18829146 0.18829146\n",
      "2 0.16826417 0.16826417\n",
      "3 0.15208763 0.15208763\n",
      "4 0.13874865 0.13874865\n",
      "5 0.12756082 0.12756082\n",
      "6 0.1180426 0.1180426\n",
      "7 0.1098462 0.1098462\n",
      "8 0.10271413 0.10271413\n",
      "9 0.09645174 0.09645174\n",
      "10 0.09090909 0.09090909\n",
      "Test passed, model works!\n"
     ]
    }
   ],
   "source": [
    "config = {\n",
    "    'T': T,\n",
    "    'model_dim': T,\n",
    "    'p': 1,\n",
    "    'seq_len':L,\n",
    "    'attention_input': 'only_sem',\n",
    "    'no_softmax': False,\n",
    "    'dataset_type': 'backward_BOS'\n",
    "}\n",
    "model, ws, bs, precise_values, desicion_bounds = generate_perfect_weights(config)\n",
    "test(model, T , L, has_BOS = 'BOS' in config['dataset_type'],verbose=True)"
   ]
  },
  {
   "cell_type": "code",
   "execution_count": null,
   "metadata": {},
   "outputs": [],
   "source": []
  }
 ],
 "metadata": {
  "kernelspec": {
   "display_name": "Python 3 (ipykernel)",
   "language": "python",
   "name": "python3"
  },
  "language_info": {
   "codemirror_mode": {
    "name": "ipython",
    "version": 3
   },
   "file_extension": ".py",
   "mimetype": "text/x-python",
   "name": "python",
   "nbconvert_exporter": "python",
   "pygments_lexer": "ipython3",
   "version": "3.8.10"
  }
 },
 "nbformat": 4,
 "nbformat_minor": 2
}
