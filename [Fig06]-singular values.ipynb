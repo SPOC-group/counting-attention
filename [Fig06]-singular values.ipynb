{
 "cells": [
  {
   "cell_type": "markdown",
   "metadata": {},
   "source": [
    "# Fig 6"
   ]
  },
  {
   "cell_type": "code",
   "execution_count": 5,
   "metadata": {},
   "outputs": [],
   "source": [
    "from data_import import *\n",
    "import numpy as np\n",
    "import matplotlib.pyplot as plt\n",
    "from sklearn.decomposition import PCA\n",
    "from plotting import *\n",
    "\n",
    "device = 'cuda:0'\n",
    "\n",
    "df_orig = load_result_table('feeds/phase_diagram_T32').reset_index()\n",
    "df_orig = df_orig[df_orig['epoch']==499]\n",
    "figure_dir = FIGURE_DIR \n",
    "\n",
    "allowed_p = [32,64,12]\n",
    "allowed_model_dim = [32,64,12]\n",
    "df_orig = df_orig[df_orig['p'].isin(allowed_p) & df_orig['model_dim'].isin(allowed_model_dim)]\n",
    "df_orig.model_dim.unique(), df_orig.p.unique()\n",
    "\n",
    "df = df_orig.groupby(CONFIG_COLS).mean(numeric_only=True).reset_index()\n",
    "df_std = df_orig.groupby(CONFIG_COLS).std(numeric_only=True).reset_index()\n",
    "df_max = df_orig.groupby(CONFIG_COLS).max(numeric_only=True).reset_index()"
   ]
  },
  {
   "cell_type": "code",
   "execution_count": 7,
   "metadata": {},
   "outputs": [
    {
     "data": {
      "text/html": [
       "<div>\n",
       "<style scoped>\n",
       "    .dataframe tbody tr th:only-of-type {\n",
       "        vertical-align: middle;\n",
       "    }\n",
       "\n",
       "    .dataframe tbody tr th {\n",
       "        vertical-align: top;\n",
       "    }\n",
       "\n",
       "    .dataframe thead th {\n",
       "        text-align: right;\n",
       "    }\n",
       "</style>\n",
       "<table border=\"1\" class=\"dataframe\">\n",
       "  <thead>\n",
       "    <tr style=\"text-align: right;\">\n",
       "      <th></th>\n",
       "      <th>model_dim</th>\n",
       "      <th>val_acc</th>\n",
       "    </tr>\n",
       "  </thead>\n",
       "  <tbody>\n",
       "    <tr>\n",
       "      <th>0</th>\n",
       "      <td>64</td>\n",
       "      <td>100.000000</td>\n",
       "    </tr>\n",
       "    <tr>\n",
       "      <th>1</th>\n",
       "      <td>64</td>\n",
       "      <td>100.000000</td>\n",
       "    </tr>\n",
       "    <tr>\n",
       "      <th>2</th>\n",
       "      <td>32</td>\n",
       "      <td>100.000000</td>\n",
       "    </tr>\n",
       "    <tr>\n",
       "      <th>3</th>\n",
       "      <td>64</td>\n",
       "      <td>100.000000</td>\n",
       "    </tr>\n",
       "    <tr>\n",
       "      <th>4</th>\n",
       "      <td>32</td>\n",
       "      <td>100.000000</td>\n",
       "    </tr>\n",
       "    <tr>\n",
       "      <th>...</th>\n",
       "      <td>...</td>\n",
       "      <td>...</td>\n",
       "    </tr>\n",
       "    <tr>\n",
       "      <th>115</th>\n",
       "      <td>32</td>\n",
       "      <td>77.434937</td>\n",
       "    </tr>\n",
       "    <tr>\n",
       "      <th>116</th>\n",
       "      <td>64</td>\n",
       "      <td>77.208873</td>\n",
       "    </tr>\n",
       "    <tr>\n",
       "      <th>117</th>\n",
       "      <td>64</td>\n",
       "      <td>76.574375</td>\n",
       "    </tr>\n",
       "    <tr>\n",
       "      <th>118</th>\n",
       "      <td>64</td>\n",
       "      <td>74.494682</td>\n",
       "    </tr>\n",
       "    <tr>\n",
       "      <th>119</th>\n",
       "      <td>32</td>\n",
       "      <td>74.009785</td>\n",
       "    </tr>\n",
       "  </tbody>\n",
       "</table>\n",
       "<p>120 rows × 2 columns</p>\n",
       "</div>"
      ],
      "text/plain": [
       "     model_dim     val_acc\n",
       "0           64  100.000000\n",
       "1           64  100.000000\n",
       "2           32  100.000000\n",
       "3           64  100.000000\n",
       "4           32  100.000000\n",
       "..         ...         ...\n",
       "115         32   77.434937\n",
       "116         64   77.208873\n",
       "117         64   76.574375\n",
       "118         64   74.494682\n",
       "119         32   74.009785\n",
       "\n",
       "[120 rows x 2 columns]"
      ]
     },
     "execution_count": 7,
     "metadata": {},
     "output_type": "execute_result"
    }
   ],
   "source": [
    "df = df_orig\n",
    "df = df_orig.sort_values('val_acc',ascending=False).reset_index()\n",
    "df = df[df.p >= 32]\n",
    "df = df[df.model_dim >= 32]\n",
    "df[['model_dim', 'val_acc']]"
   ]
  },
  {
   "cell_type": "code",
   "execution_count": 9,
   "metadata": {},
   "outputs": [
    {
     "name": "stdout",
     "output_type": "stream",
     "text": [
      "feeds/phase_diagram_T32/fortuitous-lamp-1317-model:v0 | val_acc: 100.000\n"
     ]
    },
    {
     "name": "stderr",
     "output_type": "stream",
     "text": [
      "\u001b[34m\u001b[1mwandb\u001b[0m:   1 of 1 files downloaded.  \n"
     ]
    },
    {
     "name": "stdout",
     "output_type": "stream",
     "text": [
      "feeds/phase_diagram_T32/vivid-wish-1312-model:v0 | val_acc: 99.937\n"
     ]
    },
    {
     "name": "stderr",
     "output_type": "stream",
     "text": [
      "\u001b[34m\u001b[1mwandb\u001b[0m:   1 of 1 files downloaded.  \n"
     ]
    },
    {
     "name": "stdout",
     "output_type": "stream",
     "text": [
      "feeds/phase_diagram_T32/luminous-bao-1039-model:v0 | val_acc: 99.897\n"
     ]
    },
    {
     "name": "stderr",
     "output_type": "stream",
     "text": [
      "\u001b[34m\u001b[1mwandb\u001b[0m:   1 of 1 files downloaded.  \n"
     ]
    },
    {
     "name": "stdout",
     "output_type": "stream",
     "text": [
      "feeds/phase_diagram_T32/prosperous-pig-767-model:v0 | val_acc: 99.811\n"
     ]
    },
    {
     "name": "stderr",
     "output_type": "stream",
     "text": [
      "\u001b[34m\u001b[1mwandb\u001b[0m:   1 of 1 files downloaded.  \n"
     ]
    },
    {
     "name": "stdout",
     "output_type": "stream",
     "text": [
      "feeds/phase_diagram_T32/red-rabbit-498-model:v0 | val_acc: 99.807\n"
     ]
    },
    {
     "name": "stderr",
     "output_type": "stream",
     "text": [
      "\u001b[34m\u001b[1mwandb\u001b[0m:   1 of 1 files downloaded.  \n"
     ]
    },
    {
     "name": "stdout",
     "output_type": "stream",
     "text": [
      "feeds/phase_diagram_T32/enchanting-springroll-492-model:v0 | val_acc: 99.906\n"
     ]
    },
    {
     "name": "stderr",
     "output_type": "stream",
     "text": [
      "\u001b[34m\u001b[1mwandb\u001b[0m:   1 of 1 files downloaded.  \n"
     ]
    },
    {
     "name": "stdout",
     "output_type": "stream",
     "text": [
      "feeds/phase_diagram_T32/crimson-rat-226-model:v0 | val_acc: 99.983\n"
     ]
    },
    {
     "name": "stderr",
     "output_type": "stream",
     "text": [
      "\u001b[34m\u001b[1mwandb\u001b[0m:   1 of 1 files downloaded.  \n"
     ]
    },
    {
     "name": "stdout",
     "output_type": "stream",
     "text": [
      "feeds/phase_diagram_T32/beaming-dog-221-model:v0 | val_acc: 99.887\n"
     ]
    },
    {
     "name": "stderr",
     "output_type": "stream",
     "text": [
      "\u001b[34m\u001b[1mwandb\u001b[0m:   1 of 1 files downloaded.  \n"
     ]
    },
    {
     "name": "stdout",
     "output_type": "stream",
     "text": [
      "feeds/phase_diagram_T32/filigreed-horse-1336-model:v0 | val_acc: 100.000\n"
     ]
    },
    {
     "name": "stderr",
     "output_type": "stream",
     "text": [
      "\u001b[34m\u001b[1mwandb\u001b[0m:   1 of 1 files downloaded.  \n"
     ]
    },
    {
     "name": "stdout",
     "output_type": "stream",
     "text": [
      "feeds/phase_diagram_T32/glittering-bao-1330-model:v0 | val_acc: 99.667\n"
     ]
    },
    {
     "name": "stderr",
     "output_type": "stream",
     "text": [
      "\u001b[34m\u001b[1mwandb\u001b[0m:   1 of 1 files downloaded.  \n"
     ]
    },
    {
     "name": "stdout",
     "output_type": "stream",
     "text": [
      "feeds/phase_diagram_T32/abundant-peony-1058-model:v0 | val_acc: 100.000\n"
     ]
    },
    {
     "name": "stderr",
     "output_type": "stream",
     "text": [
      "\u001b[34m\u001b[1mwandb\u001b[0m:   1 of 1 files downloaded.  \n"
     ]
    },
    {
     "name": "stdout",
     "output_type": "stream",
     "text": [
      "feeds/phase_diagram_T32/incandescent-fish-782-model:v0 | val_acc: 100.000\n"
     ]
    },
    {
     "name": "stderr",
     "output_type": "stream",
     "text": [
      "\u001b[34m\u001b[1mwandb\u001b[0m:   1 of 1 files downloaded.  \n"
     ]
    },
    {
     "name": "stdout",
     "output_type": "stream",
     "text": [
      "feeds/phase_diagram_T32/radiant-mandu-777-model:v0 | val_acc: 99.121\n"
     ]
    },
    {
     "name": "stderr",
     "output_type": "stream",
     "text": [
      "\u001b[34m\u001b[1mwandb\u001b[0m:   1 of 1 files downloaded.  \n"
     ]
    },
    {
     "name": "stdout",
     "output_type": "stream",
     "text": [
      "feeds/phase_diagram_T32/red-pig-505-model:v0 | val_acc: 99.993\n"
     ]
    },
    {
     "name": "stderr",
     "output_type": "stream",
     "text": [
      "\u001b[34m\u001b[1mwandb\u001b[0m:   1 of 1 files downloaded.  \n"
     ]
    },
    {
     "name": "stdout",
     "output_type": "stream",
     "text": [
      "feeds/phase_diagram_T32/cheerful-bao-229-model:v0 | val_acc: 100.000\n"
     ]
    },
    {
     "name": "stderr",
     "output_type": "stream",
     "text": [
      "\u001b[34m\u001b[1mwandb\u001b[0m:   1 of 1 files downloaded.  \n"
     ]
    },
    {
     "name": "stdout",
     "output_type": "stream",
     "text": [
      "feeds/phase_diagram_T32/red-fuse-224-model:v0 | val_acc: 99.458\n"
     ]
    },
    {
     "name": "stderr",
     "output_type": "stream",
     "text": [
      "\u001b[34m\u001b[1mwandb\u001b[0m:   1 of 1 files downloaded.  \n"
     ]
    },
    {
     "name": "stdout",
     "output_type": "stream",
     "text": [
      "feeds/phase_diagram_T32/festive-orchid-1426-model:v0 | val_acc: 99.038\n"
     ]
    },
    {
     "name": "stderr",
     "output_type": "stream",
     "text": [
      "\u001b[34m\u001b[1mwandb\u001b[0m:   1 of 1 files downloaded.  \n"
     ]
    },
    {
     "name": "stdout",
     "output_type": "stream",
     "text": [
      "feeds/phase_diagram_T32/resplendent-snake-1422-model:v0 | val_acc: 99.455\n"
     ]
    },
    {
     "name": "stderr",
     "output_type": "stream",
     "text": [
      "\u001b[34m\u001b[1mwandb\u001b[0m:   1 of 1 files downloaded.  \n"
     ]
    },
    {
     "name": "stdout",
     "output_type": "stream",
     "text": [
      "feeds/phase_diagram_T32/brilliant-lamp-1153-model:v0 | val_acc: 99.950\n"
     ]
    },
    {
     "name": "stderr",
     "output_type": "stream",
     "text": [
      "\u001b[34m\u001b[1mwandb\u001b[0m:   1 of 1 files downloaded.  \n"
     ]
    },
    {
     "name": "stdout",
     "output_type": "stream",
     "text": [
      "feeds/phase_diagram_T32/vivid-moon-846-model:v0 | val_acc: 99.794\n"
     ]
    },
    {
     "name": "stderr",
     "output_type": "stream",
     "text": [
      "\u001b[34m\u001b[1mwandb\u001b[0m:   1 of 1 files downloaded.  \n"
     ]
    },
    {
     "name": "stdout",
     "output_type": "stream",
     "text": [
      "feeds/phase_diagram_T32/prosperous-goat-809-model:v0 | val_acc: 99.341\n"
     ]
    },
    {
     "name": "stderr",
     "output_type": "stream",
     "text": [
      "\u001b[34m\u001b[1mwandb\u001b[0m:   1 of 1 files downloaded.  \n"
     ]
    },
    {
     "name": "stdout",
     "output_type": "stream",
     "text": [
      "feeds/phase_diagram_T32/vivid-lamp-546-model:v0 | val_acc: 99.193\n"
     ]
    },
    {
     "name": "stderr",
     "output_type": "stream",
     "text": [
      "\u001b[34m\u001b[1mwandb\u001b[0m:   1 of 1 files downloaded.  \n"
     ]
    },
    {
     "name": "stdout",
     "output_type": "stream",
     "text": [
      "feeds/phase_diagram_T32/dazzling-horse-503-model:v0 | val_acc: 99.477\n"
     ]
    },
    {
     "name": "stderr",
     "output_type": "stream",
     "text": [
      "\u001b[34m\u001b[1mwandb\u001b[0m:   1 of 1 files downloaded.  \n"
     ]
    },
    {
     "name": "stdout",
     "output_type": "stream",
     "text": [
      "feeds/phase_diagram_T32/sweet-firecracker-250-model:v0 | val_acc: 99.744\n"
     ]
    },
    {
     "name": "stderr",
     "output_type": "stream",
     "text": [
      "\u001b[34m\u001b[1mwandb\u001b[0m:   1 of 1 files downloaded.  \n"
     ]
    },
    {
     "name": "stdout",
     "output_type": "stream",
     "text": [
      "feeds/phase_diagram_T32/scintillating-dragon-200-model:v0 | val_acc: 99.384\n"
     ]
    },
    {
     "name": "stderr",
     "output_type": "stream",
     "text": [
      "\u001b[34m\u001b[1mwandb\u001b[0m:   1 of 1 files downloaded.  \n"
     ]
    },
    {
     "name": "stdout",
     "output_type": "stream",
     "text": [
      "feeds/phase_diagram_T32/filigreed-dumpling-1413-model:v0 | val_acc: 99.115\n"
     ]
    },
    {
     "name": "stderr",
     "output_type": "stream",
     "text": [
      "\u001b[34m\u001b[1mwandb\u001b[0m:   1 of 1 files downloaded.  \n"
     ]
    },
    {
     "name": "stdout",
     "output_type": "stream",
     "text": [
      "feeds/phase_diagram_T32/beaming-fuse-1387-model:v0 | val_acc: 99.634\n"
     ]
    },
    {
     "name": "stderr",
     "output_type": "stream",
     "text": [
      "\u001b[34m\u001b[1mwandb\u001b[0m:   1 of 1 files downloaded.  \n"
     ]
    },
    {
     "name": "stdout",
     "output_type": "stream",
     "text": [
      "feeds/phase_diagram_T32/red-horse-1384-model:v0 | val_acc: 99.588\n"
     ]
    },
    {
     "name": "stderr",
     "output_type": "stream",
     "text": [
      "\u001b[34m\u001b[1mwandb\u001b[0m:   1 of 1 files downloaded.  \n"
     ]
    }
   ],
   "source": [
    "fig, axes = plt.subplots(2,3,figsize=(12,6),sharex=True)\n",
    "axes = np.array(axes)\n",
    "axes_assignment = {\n",
    "        'linear': (1,2),\n",
    "        'linear+sftm': (0,2),\n",
    "        'dot': (1,1),\n",
    "        'dot+sftm': (0,1),\n",
    "        'dotBOS' : (1,0),\n",
    "        'dotBOS+sftm': (0,0),\n",
    "}\n",
    "\n",
    "df = df_orig\n",
    "\n",
    "axes[1,0].set_ylabel('no softmax',fontsize=9)\n",
    "axes[0,0].set_ylabel('with softmax',fontsize=9)\n",
    "axes[1,1].set_xlabel('singular value index $i$',fontsize=12)\n",
    "\n",
    "axes[axes_assignment['linear+sftm']].set_title('[lin]\\nlinear mixing',fontsize=9)\n",
    "axes[axes_assignment['dot+sftm']].set_title('[dot]\\ndot-product attention',fontsize=9)\n",
    "axes[axes_assignment['dotBOS+sftm']].set_title('[bos]\\ndot-product attention & BOS token',fontsize=9)\n",
    "\n",
    "fig.text(0.005, 0.5, 'singular value\\n $\\sigma$', va='center', rotation='vertical',fontsize=12)\n",
    "\n",
    "\n",
    "for name, model_config in MODELS.items():\n",
    "    ax = axes[axes_assignment[name]]\n",
    "    \n",
    "    a = df[(df.attention_input == model_config['attention_input'])\n",
    "            & (df.no_softmax == model_config['no_softmax']) \n",
    "            & (df.dataset_type == model_config['dataset'])]\n",
    "    \n",
    "    a = a[a.val_acc >= 99]\n",
    "\n",
    "\n",
    "    for i, config in a.set_index('name').iterrows():\n",
    "        #config = df.set_index('name').loc['expert-shape-2604']\n",
    "        model, embd = load_model(config)\n",
    "        matrix = model.fc1.weight.data.detach().cpu().numpy()\n",
    "        ax.axvline(32,c='grey',lw=1)\n",
    "        ax.axvline(0,c='grey',lw=1)\n",
    "        ax.axhline(0,c='grey',lw=1)\n",
    "\n",
    "        # Step 2: Perform SVD\n",
    "        U, S, Vt = np.linalg.svd(matrix, full_matrices=False)\n",
    "\n",
    "        # Step 3: Sort the singular values\n",
    "        sorted_singular_values = np.sort(S)[::-1]  # Sort in descending order\n",
    "        \n",
    "        ax.plot(sorted_singular_values, c='blue',alpha=0.5)\n",
    "        \n",
    "        #plt.plot(sorted_singular_values/sorted_singular_values.max(), 'o-', markersize=8, label=config.model_dim)\n",
    "\n",
    "        # Step 4: Plot the sorted singular values\n",
    "plt.savefig(figure_dir / 'T32_singular_values_lt32_unnormalized_gt99.pdf')\n",
    "plt.show()"
   ]
  },
  {
   "cell_type": "code",
   "execution_count": null,
   "metadata": {},
   "outputs": [],
   "source": []
  }
 ],
 "metadata": {
  "kernelspec": {
   "display_name": "Python 3 (ipykernel)",
   "language": "python",
   "name": "python3"
  },
  "language_info": {
   "codemirror_mode": {
    "name": "ipython",
    "version": 3
   },
   "file_extension": ".py",
   "mimetype": "text/x-python",
   "name": "python",
   "nbconvert_exporter": "python",
   "pygments_lexer": "ipython3",
   "version": "3.8.10"
  }
 },
 "nbformat": 4,
 "nbformat_minor": 2
}
