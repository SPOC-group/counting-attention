{
 "cells": [
  {
   "cell_type": "markdown",
   "metadata": {},
   "source": [
    "# Fig09"
   ]
  },
  {
   "cell_type": "code",
   "execution_count": null,
   "metadata": {},
   "outputs": [],
   "source": [
    "from data_import import *\n",
    "import numpy as np\n",
    "import matplotlib.pyplot as plt\n",
    "from sklearn.decomposition import PCA\n",
    "from plotting import *\n",
    "\n",
    "device = 'cuda:0'\n",
    "\n",
    "df_orig = load_result_table('feeds/phase_diagram_T32').reset_index()\n",
    "df_orig = df_orig[df_orig['epoch']==499]\n",
    "figure_dir = FIGURE_DIR"
   ]
  },
  {
   "cell_type": "code",
   "execution_count": null,
   "metadata": {},
   "outputs": [],
   "source": [
    "allowed_p = [2,4,8,16,32,64,128]\n",
    "allowed_model_dim = [2,4,8,16,32,64,128]\n",
    "\n",
    "df_orig = df_orig[df_orig['p'].isin(allowed_p) & df_orig['model_dim'].isin(allowed_model_dim)]"
   ]
  },
  {
   "cell_type": "code",
   "execution_count": null,
   "metadata": {},
   "outputs": [],
   "source": [
    "def plot_output(config,ax):\n",
    "  model, embd = load_model(config)\n",
    "  colors = list(plt.cm.tab20b.colors)\n",
    "\n",
    "  weights = model.fc2.weight.detach().cpu().numpy()\n",
    "  bias = model.fc2.bias.detach().cpu().numpy()\n",
    "  for token in range(32):\n",
    "    if token == 22:\n",
    "      pass\n",
    "    if 'BOS' in config.dataset_type:\n",
    "      idx = 1\n",
    "      X = np.zeros((10,11))\n",
    "      for i in range(1,10):\n",
    "          X[i] = token\n",
    "          X[i,1 : i+1] = 22  \n",
    "      X[:,0] = 32 \n",
    "    else:\n",
    "      idx = 0\n",
    "      X = np.zeros((10,10))\n",
    "      for i in range(1,10):\n",
    "          X[i] = token\n",
    "          X[i,: i] = 22   \n",
    "    X = torch.tensor(X,dtype=torch.long).to(device)[1:]\n",
    "    model.forward(X)\n",
    "    hidden_p = model.activ(model.b)[:,idx].detach().cpu().numpy()\n",
    "    for i in range(1,weights.shape[0]-1):\n",
    "      ys = []\n",
    "      for x in range(9):\n",
    "        y = (hidden_p[x] @ weights[i]) + bias[i]\n",
    "        ys.append(y)\n",
    "        \n",
    "      ax.plot(range(1,10),ys,c=colors[i],alpha=0.1 if token != 31 else 1.0)\n",
    "  for i in range(9):\n",
    "    ax.plot([],[],c=colors[i],label=f'{i+1}')\n",
    "\n"
   ]
  },
  {
   "cell_type": "code",
   "execution_count": null,
   "metadata": {},
   "outputs": [],
   "source": [
    "df = df_orig.sort_values('val_acc',ascending=False).groupby(CONFIG_COLS).head(1).reset_index()\n",
    "allowed_model_dim_ = allowed_model_dim[::-1]\n",
    "for name, model_config in MODELS.items():\n",
    "    print(model_config)\n",
    "    \n",
    "    a = df[(df.attention_input == model_config['attention_input'])\n",
    "            & (df.no_softmax == model_config['no_softmax']) \n",
    "            & (df.dataset_type == model_config['dataset'])]\n",
    "    \n",
    "    \n",
    "\n",
    "    fig, axs = plt.subplots(len(allowed_p),len(allowed_model_dim_),figsize=(20,20),sharex=True)\n",
    "    for p in allowed_p:\n",
    "        # set ylabel\n",
    "        axs[-1,allowed_p.index(p)].set_xlabel(f'p={p}')\n",
    "    for model_dim in allowed_model_dim_:\n",
    "        # set xlabel\n",
    "        axs[allowed_model_dim_.index(model_dim),0].set_ylabel(f'model_dim={model_dim}')\n",
    "    \n",
    "    for p in allowed_p:\n",
    "        for model_dim in allowed_model_dim_:\n",
    "            \n",
    "            ax = axs[allowed_model_dim_.index(model_dim),allowed_p.index(p)]\n",
    "            config = a[(a['p']==p) & (a['model_dim']==model_dim) ].set_index('name').iloc[0]\n",
    "            plot_output(config,ax)\n",
    "        \n",
    "            ax.set_title(f'{config.val_acc:.2f}%')\n",
    "\n",
    "    plt.savefig(FIGURE_DIR / f'outputs_{name}.png',dpi=300,bbox_inches='tight') \n",
    "    plt.show()"
   ]
  },
  {
   "cell_type": "code",
   "execution_count": null,
   "metadata": {},
   "outputs": [],
   "source": []
  }
 ],
 "metadata": {
  "kernelspec": {
   "display_name": "Python 3 (ipykernel)",
   "language": "python",
   "name": "python3"
  },
  "language_info": {
   "codemirror_mode": {
    "name": "ipython",
    "version": 3
   },
   "file_extension": ".py",
   "mimetype": "text/x-python",
   "name": "python",
   "nbconvert_exporter": "python",
   "pygments_lexer": "ipython3",
   "version": "3.8.10"
  }
 },
 "nbformat": 4,
 "nbformat_minor": 2
}
