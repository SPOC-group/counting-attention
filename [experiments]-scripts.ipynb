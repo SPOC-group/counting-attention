{
 "cells": [
  {
   "cell_type": "markdown",
   "metadata": {},
   "source": [
    "# Generate experiment scripts"
   ]
  },
  {
   "cell_type": "markdown",
   "metadata": {},
   "source": [
    "# T=32"
   ]
  },
  {
   "cell_type": "code",
   "execution_count": 1,
   "metadata": {},
   "outputs": [],
   "source": [
    "from data_import import *\n",
    "cmd = \"python3 memory_exp.py --seq_len=10 --T=32 --num_samples=10000 --p=$p --model_dim=$d --n_epochs=500 --lr=0.001 --project_name=phase_diagram_T32 --include_validation \" \n",
    "\n",
    "for name, model in MODELS.items():\n",
    "    m_cmd = to_cmd(model)\n",
    "    # write file \n",
    "    with open(\"run_approx_T32_{}.sh\".format(name), \"w\") as f:\n",
    "        \n",
    "        lines = f\"\"\"#!/bin/bash\n",
    "for i in {{1..5}}; do\n",
    "    for p in 1 3 6 11 23 45 91 2 4 8 16 32 64 128; do\n",
    "        for d in 1 3 6 11 23 45 91 2 4 8 16 32 64 128; do\n",
    "            {cmd + m_cmd}\n",
    "        done\n",
    "    done\n",
    "done\n",
    "\"\"\"\n",
    "        f.write(lines)"
   ]
  },
  {
   "cell_type": "markdown",
   "metadata": {},
   "source": [
    "# T=64"
   ]
  },
  {
   "cell_type": "code",
   "execution_count": 1,
   "metadata": {},
   "outputs": [],
   "source": [
    "from data_import import *\n",
    "cmd = \"python3 memory_exp.py --seq_len=10 --T=64 --num_samples=10000 --p=$p --model_dim=$d --n_epochs=500 --lr=0.001 --project_name=phase_diagram_T64 --include_validation \" \n",
    "\n",
    "for name, model in MODELS.items():\n",
    "    m_cmd = to_cmd(model)\n",
    "    # write file \n",
    "    with open(\"run_approx_T64_{}.sh\".format(name), \"w\") as f:\n",
    "        \n",
    "        lines = f\"\"\"#!/bin/bash\n",
    "for i in {{1..5}}; do\n",
    "    for p in 2 4 8 16 32 64 128; do\n",
    "        for d in 2 4 8 16  32 64 128; do\n",
    "            {cmd + m_cmd}\n",
    "        done\n",
    "    done\n",
    "done\n",
    "\"\"\"\n",
    "        f.write(lines)"
   ]
  },
  {
   "cell_type": "markdown",
   "metadata": {},
   "source": [
    "# $L=15$"
   ]
  },
  {
   "cell_type": "code",
   "execution_count": 2,
   "metadata": {},
   "outputs": [],
   "source": [
    "from data_import import *\n",
    "cmd = \"python3 memory_exp.py --seq_len=15 --T=32 --num_samples=10000 --p=$p --model_dim=$d --n_epochs=500 --lr=0.001 --project_name=phase_diagram_T32_L15 --include_validation \" \n",
    "\n",
    "for name, model in MODELS.items():\n",
    "    m_cmd = to_cmd(model)\n",
    "    # write file \n",
    "    with open(\"L15_run_approx_T32_{}.sh\".format(name), \"w\") as f:\n",
    "        \n",
    "        lines = f\"\"\"#!/bin/bash\n",
    "for i in {{1..5}}; do\n",
    "    for p in 1 3 6 11 23 45 91 2 4 8 16 32 64 128; do\n",
    "        for d in 1 3 6 11 23 45 91 2 4 8 16 32 64 128; do\n",
    "            {cmd + m_cmd}\n",
    "        done\n",
    "    done\n",
    "done\n",
    "\"\"\"\n",
    "        f.write(lines)"
   ]
  },
  {
   "cell_type": "markdown",
   "metadata": {},
   "source": [
    "# $T=32$ with random embeddings"
   ]
  },
  {
   "cell_type": "code",
   "execution_count": null,
   "metadata": {},
   "outputs": [],
   "source": [
    "from data_import import *\n",
    "cmd = \"python3 random_embd.memory_exp.py --seq_len=10 --T=32 --num_samples=10000 --p=$p --model_dim=$d --n_epochs=500 --lr=0.001 --project_name=random_phase_diagram_T32 --include_validation \" \n",
    "\n",
    "for name, model in MODELS.items():\n",
    "    m_cmd = to_cmd(model)\n",
    "    # write file \n",
    "    with open(\"run_approx_T32_random_{}.sh\".format(name), \"w\") as f:\n",
    "        \n",
    "        lines = f\"\"\"#!/bin/bash\n",
    "for i in {{1..5}}; do\n",
    "    for p in 1 3 6 11 23 45 91 2 4 8 16 32 64 128; do\n",
    "        for d in 1 3 6 11 23 45 91 2 4 8 16 32 64 128; do\n",
    "            {cmd + m_cmd}\n",
    "        done\n",
    "    done\n",
    "done\n",
    "\"\"\"\n",
    "        f.write(lines)"
   ]
  }
 ],
 "metadata": {
  "kernelspec": {
   "display_name": "Python 3 (ipykernel)",
   "language": "python",
   "name": "python3"
  }
 },
 "nbformat": 4,
 "nbformat_minor": 2
}
